{
  "nbformat": 4,
  "nbformat_minor": 0,
  "metadata": {
    "colab": {
      "name": "Python_assignment.ipynb",
      "provenance": [],
      "collapsed_sections": []
    },
    "kernelspec": {
      "name": "python3",
      "display_name": "Python 3"
    },
    "language_info": {
      "name": "python"
    }
  },
  "cells": [
    {
      "cell_type": "markdown",
      "metadata": {
        "id": "lGvxUjdwcwxq"
      },
      "source": [
        "**List_remove_append**\n",
        "\n",
        "Description: Remove SPSS from input_list=['SAS', 'R', 'PYTHON', 'SPSS'] and add 'SPARK' in its place."
      ]
    },
    {
      "cell_type": "code",
      "metadata": {
        "colab": {
          "base_uri": "https://localhost:8080/"
        },
        "id": "XVURHNuQcohX",
        "outputId": "edbbe8ab-dbf1-41af-851c-14539f75674f"
      },
      "source": [
        "input_list=['SAS', 'R', 'PYTHON', 'SPSS']\n",
        "input_list[-1] = \"SPARK\"\n",
        "input_list"
      ],
      "execution_count": 3,
      "outputs": [
        {
          "output_type": "execute_result",
          "data": {
            "text/plain": [
              "['SAS', 'R', 'PYTHON', 'SPARK']"
            ]
          },
          "metadata": {},
          "execution_count": 3
        }
      ]
    },
    {
      "cell_type": "markdown",
      "metadata": {
        "id": "lndUvH9XdNTW"
      },
      "source": [
        "**String to List Conversion**\n",
        "\n",
        "Description: Convert a string input_str = 'I love Data Science & Python' to a list by splitting it on ‘&’. The sample output for this string will be:"
      ]
    },
    {
      "cell_type": "code",
      "metadata": {
        "colab": {
          "base_uri": "https://localhost:8080/"
        },
        "id": "bAC73Hqgc7XW",
        "outputId": "9726eec5-4ba3-4b7a-e25c-04ccd87c6cc4"
      },
      "source": [
        "input_str = 'I love Data Science & Python'\n",
        "output_list = input_str.split(\"&\")\n",
        "output_list"
      ],
      "execution_count": 4,
      "outputs": [
        {
          "output_type": "execute_result",
          "data": {
            "text/plain": [
              "['I love Data Science ', ' Python']"
            ]
          },
          "metadata": {},
          "execution_count": 4
        }
      ]
    },
    {
      "cell_type": "markdown",
      "metadata": {
        "id": "Q6AYd_G8dmle"
      },
      "source": [
        "**List to String Conversion**\n",
        "\n",
        "Description: Convert a list ['Pythons syntax is easy to learn', 'Pythons syntax is very clear'] to a string using ‘&’. The sample output of this string will be:"
      ]
    },
    {
      "cell_type": "code",
      "metadata": {
        "colab": {
          "base_uri": "https://localhost:8080/",
          "height": 35
        },
        "id": "q0HvGkjFdhiu",
        "outputId": "68d5353d-8d9e-4cd0-ae1d-7734fe798cd8"
      },
      "source": [
        "#Method 1\n",
        "input_list = ['Pythons syntax is easy to learn', 'Pythons syntax is very clear'] \n",
        "output_str = \" & \".join(input_list)\n",
        "output_str"
      ],
      "execution_count": 6,
      "outputs": [
        {
          "output_type": "execute_result",
          "data": {
            "application/vnd.google.colaboratory.intrinsic+json": {
              "type": "string"
            },
            "text/plain": [
              "'Pythons syntax is easy to learn & Pythons syntax is very clear'"
            ]
          },
          "metadata": {},
          "execution_count": 6
        }
      ]
    },
    {
      "cell_type": "code",
      "metadata": {
        "colab": {
          "base_uri": "https://localhost:8080/",
          "height": 35
        },
        "id": "PRWVUM_hehNs",
        "outputId": "38fd705b-c889-45ca-95f2-d99f804d1f5b"
      },
      "source": [
        "#Method 2\n",
        "#Crude method (Not efficient)\n",
        "o_str = \"\"\n",
        "for i in range(len(input_list)):\n",
        "  if i > 0:\n",
        "    o_str += \" & \" + input_list[i]\n",
        "  else:\n",
        "    o_str += input_list[i]\n",
        "\n",
        "o_str"
      ],
      "execution_count": 10,
      "outputs": [
        {
          "output_type": "execute_result",
          "data": {
            "application/vnd.google.colaboratory.intrinsic+json": {
              "type": "string"
            },
            "text/plain": [
              "'Pythons syntax is easy to learn & Pythons syntax is very clear'"
            ]
          },
          "metadata": {},
          "execution_count": 10
        }
      ]
    },
    {
      "cell_type": "markdown",
      "metadata": {
        "id": "mmSe92bwfuPo"
      },
      "source": [
        "**Nested List**\n",
        "\n",
        "Description: Extract Python from a nested list\n",
        "input_list = [['SAS','R'],['Tableau','SQL'],['Python','Java']]"
      ]
    },
    {
      "cell_type": "code",
      "metadata": {
        "colab": {
          "base_uri": "https://localhost:8080/"
        },
        "id": "oeQJyDPhe95f",
        "outputId": "fe34f7d6-cfce-4201-cf9c-e8e4c29665ca"
      },
      "source": [
        "input_list = [['SAS','R'],['Tableau','SQL'],['Python','Java']]\n",
        "print(\"Method 1: \", input_list[2][0]) #Method 1\n",
        "print(\"Method 2: \", input_list[-1][0]) #Method 2"
      ],
      "execution_count": 13,
      "outputs": [
        {
          "output_type": "stream",
          "name": "stdout",
          "text": [
            "Method 1:  Python\n",
            "Method 2:  Python\n"
          ]
        }
      ]
    },
    {
      "cell_type": "markdown",
      "metadata": {
        "id": "Z0h1bELngKpL"
      },
      "source": [
        "**It's time to disco**\n",
        "\n",
        "Description: t = (\"disco\", 12, 4.5)\n",
        "\n",
        "What is the output of t[0][1]\n",
        "\n",
        "Solution: It will be \"i\""
      ]
    },
    {
      "cell_type": "code",
      "metadata": {
        "colab": {
          "base_uri": "https://localhost:8080/",
          "height": 35
        },
        "id": "8Syrqw72fH2b",
        "outputId": "8e4bed99-e7fe-4d29-e466-ed964608dd5b"
      },
      "source": [
        "t = (\"disco\", 12, 4.5)\n",
        "t[0][1]"
      ],
      "execution_count": 14,
      "outputs": [
        {
          "output_type": "execute_result",
          "data": {
            "application/vnd.google.colaboratory.intrinsic+json": {
              "type": "string"
            },
            "text/plain": [
              "'i'"
            ]
          },
          "metadata": {},
          "execution_count": 14
        }
      ]
    },
    {
      "cell_type": "markdown",
      "metadata": {
        "id": "60DlUFq6gguJ"
      },
      "source": [
        "**String Palindrome**\n",
        "\n",
        "Description: Write a program to check whether a string is a palindrome or not. Print 1 if the string is a palindrome and 0 otherwise.\n",
        "\n",
        "Input: Any string\n",
        "Output: 1 if the string is palindrome, 0 otherwise."
      ]
    },
    {
      "cell_type": "code",
      "metadata": {
        "colab": {
          "base_uri": "https://localhost:8080/"
        },
        "id": "bJhwLND_gatt",
        "outputId": "03a8fd63-dd4a-40d3-c46a-515eac7057d7"
      },
      "source": [
        "word = \"ABCDCBAD\"\n",
        "\n",
        "if word[::-1] == word:\n",
        "  print(1)\n",
        "else:\n",
        "  print(0)\n"
      ],
      "execution_count": 20,
      "outputs": [
        {
          "output_type": "stream",
          "name": "stdout",
          "text": [
            "0\n"
          ]
        }
      ]
    },
    {
      "cell_type": "markdown",
      "metadata": {
        "id": "T_4ZE0aVn4vj"
      },
      "source": [
        "**Reverse Words**\n",
        "\n",
        "Description: You will be given a sentence in the form of a string. You have to reverse the order of the words in the sentence. Remember not to reverse the individual words, but the order of words. \n",
        "\n",
        "Check the sample input-output for further clarification.\n",
        "Input: A string, which will consist of a few spaces.\n",
        "Output: The words in reverse order"
      ]
    },
    {
      "cell_type": "code",
      "metadata": {
        "colab": {
          "base_uri": "https://localhost:8080/"
        },
        "id": "DCl_8kY6nQuP",
        "outputId": "fa06ab9a-297d-4eb8-bdf1-e65affc73d4c"
      },
      "source": [
        "org = \"You will be given a sentence in the form of a string\"\n",
        "#Reversing a sentence keeping word as it is\n",
        "org_list = org.split(\" \")\n",
        "print(\" \".join(org_list[::-1]))\n",
        "\n",
        "#Reversing a sentence (Assuming this is not what is being asked for)\n",
        "#print(org[::-1])\n"
      ],
      "execution_count": 25,
      "outputs": [
        {
          "output_type": "stream",
          "name": "stdout",
          "text": [
            "string a of form the in sentence a given be will You\n",
            "gnirts a fo mrof eht ni ecnetnes a nevig eb lliw uoY\n"
          ]
        }
      ]
    },
    {
      "cell_type": "markdown",
      "metadata": {
        "id": "m1a3U5LlClJn"
      },
      "source": [
        "**String Formatting**\n",
        "\n",
        "Description: Write a program that satisfies below examples:\n",
        "\n",
        "\n",
        "Input 1: caloRie ConsuMed\n",
        "Output 1: calorie_consumed\n",
        "\n",
        "\n",
        "Input 2: data science\n",
        "Output 2: data_science\n",
        "\n",
        "\n",
        "Input 3: datascience\n",
        "Output 3: datascience"
      ]
    },
    {
      "cell_type": "code",
      "metadata": {
        "colab": {
          "base_uri": "https://localhost:8080/",
          "height": 35
        },
        "id": "tT9AARk8B22u",
        "outputId": "9bad0fe1-7e7f-4d54-8ee5-dead5c084397"
      },
      "source": [
        "org_statement = \"datascience\"\n",
        "\"_\".join(org_statement.lower().split(\" \"))"
      ],
      "execution_count": 29,
      "outputs": [
        {
          "output_type": "execute_result",
          "data": {
            "application/vnd.google.colaboratory.intrinsic+json": {
              "type": "string"
            },
            "text/plain": [
              "'datascience'"
            ]
          },
          "metadata": {},
          "execution_count": 29
        }
      ]
    },
    {
      "cell_type": "markdown",
      "metadata": {
        "id": "hsmHo8xiDKFq"
      },
      "source": [
        "**Multiple Choice Questions:**\n",
        "\n",
        "1. How will you extract ‘love’ from the string S = “I love Python”? (More than one option may be correct.).\n",
        "\n",
        "\n",
        "a. S[2:5]\n",
        "\n",
        "b. S[2:6]\n",
        "\n",
        "c. S[3:7]\n",
        "\n",
        "d. S[-11:-7]\n",
        "\n",
        "e. S[-11:-8]\n",
        "\n",
        "**Ans: b -> S[2:6], d -> S[-11:-7]**\n",
        "\n",
        "\n",
        "2. What will the output of 3 * 3 ** 3 be?\n",
        "\n",
        "a. 9\n",
        "\n",
        "b. 27\n",
        "\n",
        "c. 81\n",
        "\n",
        "d. 729\n",
        "\n",
        "**Ans: c -> 81**\n",
        "\n",
        "\n",
        "3. What will the output be of ((500//7) % 5) ** 3?\n",
        "\n",
        "a. 1\n",
        "\n",
        "b. 2.91\n",
        "\n",
        "c. 71.42\n",
        "\n",
        "d. 0\n",
        "\n",
        "e. 8\n",
        "\n",
        "**Ans: a -> 1**\n",
        "\n",
        "\n",
        "4. If you have a tuple T = (3, 5, 7, 11), what will the output of T.append(9) be?\n",
        "\n",
        "a. (3, 5, 7, 9, 11)\n",
        "\n",
        "b. (9, 3, 5, 7, 11)\n",
        "\n",
        "c. (3, 5, 7, 11, 9)\n",
        "\n",
        "d. Error\n",
        "\n",
        "**Ans: d -> Error**\n",
        "\n",
        "\n",
        "6. What will the output of the following code be?\n",
        "\n",
        "```\n",
        "l = [32, 34, 12, 27, 33]\n",
        "l.append((14,19))\n",
        "print(len(l))\n",
        "```\n",
        "\n",
        "a. 5\n",
        "\n",
        "b. 6\n",
        "\n",
        "c. 7\n",
        "\n",
        "d. The code will throw an error\n",
        "\n",
        "**Ans: b -> 6 **\n",
        "\n",
        "\n",
        "7. Which of the following statements is incorrect regarding sets in Python?\n",
        "\n",
        "a. Sets do not contain duplicate elements\n",
        "\n",
        "b. Sets are represented using curly braces {}\n",
        "\n",
        "c. Sets are immutable\n",
        "\n",
        "d. All of the above\n",
        "\n",
        "**Ans: d -> All of the above**\n",
        "\n",
        "\n",
        "8. What will the output be of the following code?\n",
        "```\n",
        "D = {1: [\"Raj\", 22], 2:[\"Simran\",21], 3:[\"Rahul\",40]}\n",
        "for val in D:\n",
        "    print(val)\n",
        "```\n",
        "\n",
        "a. 1\n",
        "2\n",
        "3\n",
        "\n",
        "b. [‘Raj’, 22]\n",
        "[‘Simran’, 21]\n",
        "[‘Rahul’, 40]\n",
        "\n",
        "c. 1 [‘Raj’, 22]\n",
        "2 [‘Simran’, 21]\n",
        "3 [‘Rahul’, 40]\n",
        "\n",
        "d. ‘Raj’\n",
        "‘Simran’\n",
        "‘Rahul’\n",
        "\n",
        "**Ans: A -> 1 2 3**\n",
        "\n",
        "\n",
        "9. What will the ‘comprehension equivalent’ be for the following snippet of code?\n",
        "```\n",
        "for sentence in paragraph:\n",
        "    for word in sentence.split():\n",
        "      single_words_list.append(word)\n",
        "```\n",
        "\n",
        "a. word for sentence in paragraph for word in sentence.split()\n",
        "\n",
        "b. [word for sentence in paragraph for word in sentence.split()]\n",
        "\n",
        "c. word for word in sentence.split() for sentence in paragraph\n",
        "\n",
        "d. [word for word in sentence.split() for sentence in paragraph]\n",
        "\n",
        "**Ans: b -> [word for sentence in paragraph for word in sentence.split()]**\n",
        "\n",
        "\n",
        "\n",
        "10.What will be the output of this code?\n",
        "\n",
        "```\n",
        "print(list(range(10,1,-1)))\n",
        "```\n",
        "\n",
        "a. [10, 9, 8, 7, 6, 5, 4, 3, 2, 1]\n",
        "\n",
        "b. [9, 8, 7, 6, 5, 4, 3, 2]\n",
        "\n",
        "c. [9, 8, 7, 6, 5, 4, 3, 2, 1]\n",
        "\n",
        "d. [10, 9, 8, 7, 6, 5, 4, 3, 2]\n",
        "\n",
        "**Ans: d -> [10, 9, 8, 7, 6, 5, 4, 3, 2]**"
      ]
    }
  ]
}